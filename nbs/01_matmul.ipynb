{
  "cells": [
    {
      "cell_type": "markdown",
      "metadata": {
        "id": "WfUCa6tiFV9Z"
      },
      "source": [
        "## Matrix multiplication from foundations"
      ]
    },
    {
      "cell_type": "markdown",
      "metadata": {
        "id": "c60NiWn-FV9a"
      },
      "source": [
        "The *foundations* we'll assume throughout this course are:\n",
        "\n",
        "- Python\n",
        "- matplotlib\n",
        "- The Python standard library\n",
        "- Jupyter notebooks and nbdev"
      ]
    },
    {
      "cell_type": "code",
      "execution_count": 1,
      "metadata": {
        "id": "9Dl9EMzkFV9b"
      },
      "outputs": [],
      "source": [
        "from pathlib import Path\n",
        "import pickle, gzip, math, os, time, shutil, matplotlib as mpl, matplotlib.pyplot as plt"
      ]
    },
    {
      "cell_type": "markdown",
      "metadata": {
        "id": "OIWA3KOwFV9b"
      },
      "source": [
        "## Get data"
      ]
    },
    {
      "cell_type": "code",
      "execution_count": 2,
      "metadata": {
        "id": "vt_n1h6wFV9b"
      },
      "outputs": [],
      "source": [
        "MNIST_URL='https://github.com/mnielsen/neural-networks-and-deep-learning/blob/master/data/mnist.pkl.gz?raw=true'\n",
        "path_data = Path('data')\n",
        "path_data.mkdir(exist_ok=True)\n",
        "path_gz = path_data/'mnist.pkl.gz'"
      ]
    },
    {
      "cell_type": "markdown",
      "metadata": {
        "id": "jlsbTY8cFV9b"
      },
      "source": [
        "[urlretrieve](https://docs.python.org/3/library/urllib.request.html#urllib.request.urlretrieve) - (read the docs!)"
      ]
    },
    {
      "cell_type": "code",
      "execution_count": 3,
      "metadata": {
        "id": "o5jZqb-_FV9c"
      },
      "outputs": [],
      "source": [
        "from urllib.request import urlretrieve\n",
        "if not path_gz.exists(): urlretrieve(MNIST_URL, path_gz)"
      ]
    },
    {
      "cell_type": "code",
      "execution_count": 4,
      "metadata": {
        "id": "iu3VW22iFV9c",
        "outputId": "b16cf75b-dfa0-4bab-9122-1f9624394572",
        "colab": {
          "base_uri": "https://localhost:8080/"
        }
      },
      "outputs": [
        {
          "output_type": "stream",
          "name": "stdout",
          "text": [
            "total 16656\n",
            "-rw-r--r-- 1 root root 17051982 Mar 12 21:17 mnist.pkl.gz\n"
          ]
        }
      ],
      "source": [
        "!ls -l data"
      ]
    },
    {
      "cell_type": "code",
      "execution_count": 5,
      "metadata": {
        "id": "acg7w6DiFV9c"
      },
      "outputs": [],
      "source": [
        "with gzip.open(path_gz, 'rb') as f: ((x_train, y_train), (x_valid, y_valid), _) = pickle.load(f, encoding='latin-1')"
      ]
    },
    {
      "cell_type": "code",
      "execution_count": 6,
      "metadata": {
        "id": "CUd-7HC9FV9c",
        "outputId": "c03d92c8-e889-44be-989f-072da7eb2df3",
        "colab": {
          "base_uri": "https://localhost:8080/"
        }
      },
      "outputs": [
        {
          "output_type": "execute_result",
          "data": {
            "text/plain": [
              "[0.0,\n",
              " 0.0,\n",
              " 0.0,\n",
              " 0.19140625,\n",
              " 0.9296875,\n",
              " 0.98828125,\n",
              " 0.98828125,\n",
              " 0.98828125,\n",
              " 0.98828125,\n",
              " 0.98828125]"
            ]
          },
          "metadata": {},
          "execution_count": 6
        }
      ],
      "source": [
        "lst1 = list(x_train[0])\n",
        "vals = lst1[200:210]\n",
        "vals"
      ]
    },
    {
      "cell_type": "code",
      "execution_count": 7,
      "metadata": {
        "id": "B74r-G-5FV9d"
      },
      "outputs": [],
      "source": [
        "def chunks(x, sz):\n",
        "    for i in range(0, len(x), sz): yield x[i:i+sz]"
      ]
    },
    {
      "cell_type": "code",
      "execution_count": 8,
      "metadata": {
        "id": "HXOReIMaFV9d",
        "outputId": "44cf82bb-5ed9-4ff6-d5de-6d98c6b0c107",
        "colab": {
          "base_uri": "https://localhost:8080/"
        }
      },
      "outputs": [
        {
          "output_type": "execute_result",
          "data": {
            "text/plain": [
              "[[0.0, 0.0, 0.0, 0.19140625, 0.9296875],\n",
              " [0.98828125, 0.98828125, 0.98828125, 0.98828125, 0.98828125]]"
            ]
          },
          "metadata": {},
          "execution_count": 8
        }
      ],
      "source": [
        "list(chunks(vals, 5))"
      ]
    },
    {
      "cell_type": "code",
      "execution_count": 9,
      "metadata": {
        "id": "QtWasxErFV9d",
        "outputId": "c9ef9a01-77cd-46ed-cdb5-9473f2b57309",
        "colab": {
          "base_uri": "https://localhost:8080/",
          "height": 430
        }
      },
      "outputs": [
        {
          "output_type": "display_data",
          "data": {
            "text/plain": [
              "<Figure size 640x480 with 1 Axes>"
            ],
            "image/png": "[encoded data removed]"
          },
          "metadata": {}
        }
      ],
      "source": [
        "mpl.rcParams['image.cmap'] = 'gray'\n",
        "plt.imshow(list(chunks(lst1, 28)));"
      ]
    },
    {
      "cell_type": "markdown",
      "metadata": {
        "id": "pAxh-GtkFV9e"
      },
      "source": [
        "[islice](https://docs.python.org/3/library/itertools.html#itertools.islice)"
      ]
    },
    {
      "cell_type": "code",
      "execution_count": 10,
      "metadata": {
        "id": "1fL1igs8FV9e"
      },
      "outputs": [],
      "source": [
        "from itertools import islice"
      ]
    },
    {
      "cell_type": "code",
      "execution_count": 11,
      "metadata": {
        "id": "l4RDx4_iFV9f",
        "outputId": "16ea7bc9-2bd9-4c8e-b036-d5e99b304747",
        "colab": {
          "base_uri": "https://localhost:8080/"
        }
      },
      "outputs": [
        {
          "output_type": "execute_result",
          "data": {
            "text/plain": [
              "<itertools.islice at 0x7ba9b46bb420>"
            ]
          },
          "metadata": {},
          "execution_count": 11
        }
      ],
      "source": [
        "it = iter(vals)\n",
        "islice(it, 5)"
      ]
    },
    {
      "cell_type": "code",
      "execution_count": 12,
      "metadata": {
        "id": "iwdVzUvzFV9f",
        "outputId": "1fc70676-3096-4096-a2fa-6fe562e45516",
        "colab": {
          "base_uri": "https://localhost:8080/"
        }
      },
      "outputs": [
        {
          "output_type": "execute_result",
          "data": {
            "text/plain": [
              "[0.0, 0.0, 0.0, 0.19140625, 0.9296875]"
            ]
          },
          "metadata": {},
          "execution_count": 12
        }
      ],
      "source": [
        "list(islice(it, 5))"
      ]
    },
    {
      "cell_type": "code",
      "execution_count": 13,
      "metadata": {
        "id": "9Z101QRVFV9f",
        "outputId": "d48b04f4-aa2f-45f3-c9fc-78c326916d6f",
        "colab": {
          "base_uri": "https://localhost:8080/"
        }
      },
      "outputs": [
        {
          "output_type": "execute_result",
          "data": {
            "text/plain": [
              "[0.98828125, 0.98828125, 0.98828125, 0.98828125, 0.98828125]"
            ]
          },
          "metadata": {},
          "execution_count": 13
        }
      ],
      "source": [
        "list(islice(it, 5))"
      ]
    },
    {
      "cell_type": "code",
      "execution_count": 14,
      "metadata": {
        "id": "Ufbsqe3sFV9f",
        "outputId": "4a3d3131-7c38-4f04-82e4-dec600f84207",
        "colab": {
          "base_uri": "https://localhost:8080/"
        }
      },
      "outputs": [
        {
          "output_type": "execute_result",
          "data": {
            "text/plain": [
              "[]"
            ]
          },
          "metadata": {},
          "execution_count": 14
        }
      ],
      "source": [
        "list(islice(it, 5))"
      ]
    },
    {
      "cell_type": "code",
      "execution_count": 15,
      "metadata": {
        "id": "Tuz4DNnaFV9g"
      },
      "outputs": [],
      "source": [
        "it = iter(lst1)\n",
        "img = list(iter(lambda: list(islice(it, 28)), []))"
      ]
    },
    {
      "cell_type": "code",
      "execution_count": 16,
      "metadata": {
        "id": "Wv3Bh6J5FV9g",
        "outputId": "a57e9f88-b560-4d02-c95f-6710b42e65da",
        "colab": {
          "base_uri": "https://localhost:8080/",
          "height": 430
        }
      },
      "outputs": [
        {
          "output_type": "display_data",
          "data": {
            "text/plain": [
              "<Figure size 640x480 with 1 Axes>"
            ],
            "image/png": "[encoded data removed]"
          },
          "metadata": {}
        }
      ],
      "source": [
        "plt.imshow(img);"
      ]
    },
    {
      "cell_type": "markdown",
      "metadata": {
        "id": "AlePX1QAFV9g"
      },
      "source": [
        "## Matrix and tensor"
      ]
    },
    {
      "cell_type": "code",
      "execution_count": 17,
      "metadata": {
        "id": "A4PaX2IdFV9g",
        "outputId": "61504c43-60ea-4ae1-d5e8-cf12e9894c6e",
        "colab": {
          "base_uri": "https://localhost:8080/"
        }
      },
      "outputs": [
        {
          "output_type": "execute_result",
          "data": {
            "text/plain": [
              "0.98828125"
            ]
          },
          "metadata": {},
          "execution_count": 17
        }
      ],
      "source": [
        "img[20][15]"
      ]
    },
    {
      "cell_type": "code",
      "execution_count": 18,
      "metadata": {
        "id": "ZXKoBtXoFV9g"
      },
      "outputs": [],
      "source": [
        "class Matrix:\n",
        "    def __init__(self, xs): self.xs = xs\n",
        "    def __getitem__(self, idxs): return self.xs[idxs[0]][idxs[1]]"
      ]
    },
    {
      "cell_type": "code",
      "execution_count": 19,
      "metadata": {
        "id": "1vNNtJGKFV9h",
        "outputId": "04a01f9a-7a42-4a09-bcbb-b7c5804417bd",
        "colab": {
          "base_uri": "https://localhost:8080/"
        }
      },
      "outputs": [
        {
          "output_type": "execute_result",
          "data": {
            "text/plain": [
              "0.98828125"
            ]
          },
          "metadata": {},
          "execution_count": 19
        }
      ],
      "source": [
        "m = Matrix(img)\n",
        "m[20,15]"
      ]
    },
    {
      "cell_type": "code",
      "execution_count": 20,
      "metadata": {
        "id": "vU-9uXcPFV9h"
      },
      "outputs": [],
      "source": [
        "import torch\n",
        "from torch import tensor"
      ]
    },
    {
      "cell_type": "code",
      "execution_count": 21,
      "metadata": {
        "id": "Zi72OYVfFV9h",
        "outputId": "0485831a-4edc-48f4-b158-446fc0087a9f",
        "colab": {
          "base_uri": "https://localhost:8080/"
        }
      },
      "outputs": [
        {
          "output_type": "execute_result",
          "data": {
            "text/plain": [
              "tensor([1, 2, 3])"
            ]
          },
          "metadata": {},
          "execution_count": 21
        }
      ],
      "source": [
        "tensor([1,2,3])"
      ]
    },
    {
      "cell_type": "code",
      "execution_count": 22,
      "metadata": {
        "id": "29-gog1tFV9h",
        "outputId": "e249338b-fa15-4fb3-d5ac-06f5c6ed974c",
        "colab": {
          "base_uri": "https://localhost:8080/"
        }
      },
      "outputs": [
        {
          "output_type": "execute_result",
          "data": {
            "text/plain": [
              "torch.Size([50000, 784])"
            ]
          },
          "metadata": {},
          "execution_count": 22
        }
      ],
      "source": [
        "x_train,y_train,x_valid,y_valid = map(tensor, (x_train,y_train,x_valid,y_valid))\n",
        "x_train.shape"
      ]
    },
    {
      "cell_type": "code",
      "execution_count": 23,
      "metadata": {
        "id": "f4_aaOJbFV9h",
        "outputId": "ede3d725-ee23-40c3-b445-352daa5f360e",
        "colab": {
          "base_uri": "https://localhost:8080/",
          "height": 36
        }
      },
      "outputs": [
        {
          "output_type": "execute_result",
          "data": {
            "text/plain": [
              "'torch.FloatTensor'"
            ],
            "application/vnd.google.colaboratory.intrinsic+json": {
              "type": "string"
            }
          },
          "metadata": {},
          "execution_count": 23
        }
      ],
      "source": [
        "x_train.type()"
      ]
    },
    {
      "cell_type": "markdown",
      "metadata": {
        "id": "17nMcou6FV9h"
      },
      "source": [
        "[Tensor](https://pytorch.org/docs/stable/tensors.html)"
      ]
    },
    {
      "cell_type": "code",
      "execution_count": 24,
      "metadata": {
        "id": "SMBinE21FV9h",
        "outputId": "112a0828-0131-4639-aa45-55c324e4fee9",
        "colab": {
          "base_uri": "https://localhost:8080/"
        }
      },
      "outputs": [
        {
          "output_type": "execute_result",
          "data": {
            "text/plain": [
              "torch.Size([50000, 28, 28])"
            ]
          },
          "metadata": {},
          "execution_count": 24
        }
      ],
      "source": [
        "imgs = x_train.reshape((-1,28,28))\n",
        "imgs.shape"
      ]
    },
    {
      "cell_type": "code",
      "execution_count": 25,
      "metadata": {
        "id": "CcW6aDxFFV9h",
        "outputId": "33e2e437-2cfc-49ee-a55b-d88002c8e9cb",
        "colab": {
          "base_uri": "https://localhost:8080/",
          "height": 430
        }
      },
      "outputs": [
        {
          "output_type": "display_data",
          "data": {
            "text/plain": [
              "<Figure size 640x480 with 1 Axes>"
            ],
            "image/png": "[encoded data removed]"
          },
          "metadata": {}
        }
      ],
      "source": [
        "plt.imshow(imgs[0]);"
      ]
    },
    {
      "cell_type": "code",
      "execution_count": 26,
      "metadata": {
        "id": "42lbGwpVFV9i",
        "outputId": "bad71348-e789-4bc7-8209-c77d691b69ef",
        "colab": {
          "base_uri": "https://localhost:8080/"
        }
      },
      "outputs": [
        {
          "output_type": "execute_result",
          "data": {
            "text/plain": [
              "tensor(0.9883)"
            ]
          },
          "metadata": {},
          "execution_count": 26
        }
      ],
      "source": [
        "imgs[0,20,15]"
      ]
    },
    {
      "cell_type": "code",
      "execution_count": 27,
      "metadata": {
        "id": "2uxbgx7DFV9i",
        "outputId": "b349d773-620f-4ccf-967f-2f5a0c5a87e9",
        "colab": {
          "base_uri": "https://localhost:8080/"
        }
      },
      "outputs": [
        {
          "output_type": "execute_result",
          "data": {
            "text/plain": [
              "(tensor([5, 0, 4,  ..., 8, 4, 8]), torch.Size([50000]))"
            ]
          },
          "metadata": {},
          "execution_count": 27
        }
      ],
      "source": [
        "n,c = x_train.shape\n",
        "y_train, y_train.shape"
      ]
    },
    {
      "cell_type": "code",
      "execution_count": 31,
      "metadata": {
        "id": "DU-h7oCWFV9i",
        "outputId": "46df60c2-3baf-4cec-c03e-57f1769deeb0",
        "colab": {
          "base_uri": "https://localhost:8080/"
        }
      },
      "outputs": [
        {
          "output_type": "execute_result",
          "data": {
            "text/plain": [
              "(tensor(0), tensor(9))"
            ]
          },
          "metadata": {},
          "execution_count": 31
        }
      ],
      "source": [
        "min(y_train),max(y_train)"
      ]
    },
    {
      "cell_type": "code",
      "execution_count": 32,
      "metadata": {
        "id": "eyyur0-eFV9i",
        "outputId": "9503b3c8-8975-4038-c0a9-ae8b96e609fd",
        "colab": {
          "base_uri": "https://localhost:8080/"
        }
      },
      "outputs": [
        {
          "output_type": "execute_result",
          "data": {
            "text/plain": [
              "(tensor(0), tensor(9))"
            ]
          },
          "metadata": {},
          "execution_count": 32
        }
      ],
      "source": [
        "y_train.min(), y_train.max()"
      ]
    },
    {
      "cell_type": "markdown",
      "metadata": {
        "id": "vct-PVUPFV9i"
      },
      "source": [
        "## Random numbers"
      ]
    },
    {
      "cell_type": "markdown",
      "metadata": {
        "id": "XiQmtCAZFV9i"
      },
      "source": [
        "Based on the Wichmann Hill algorithm used before Python 2.3."
      ]
    },
    {
      "cell_type": "code",
      "execution_count": 33,
      "metadata": {
        "id": "y4B40g5TFV9j"
      },
      "outputs": [],
      "source": [
        "rnd_state = None\n",
        "def seed(a):\n",
        "    global rnd_state\n",
        "    a, x = divmod(a, 30268)\n",
        "    a, y = divmod(a, 30306)\n",
        "    a, z = divmod(a, 30322)\n",
        "    rnd_state = int(x)+1, int(y)+1, int(z)+1"
      ]
    },
    {
      "cell_type": "code",
      "execution_count": 34,
      "metadata": {
        "id": "2masuzbRFV9s",
        "outputId": "deed7442-8fa6-4e98-9725-ce3c3339795e",
        "colab": {
          "base_uri": "https://localhost:8080/"
        }
      },
      "outputs": [
        {
          "output_type": "execute_result",
          "data": {
            "text/plain": [
              "(4976, 20238, 499)"
            ]
          },
          "metadata": {},
          "execution_count": 34
        }
      ],
      "source": [
        "seed(457428938475)\n",
        "rnd_state"
      ]
    },
    {
      "cell_type": "code",
      "execution_count": 35,
      "metadata": {
        "id": "_F0BikHHFV9s"
      },
      "outputs": [],
      "source": [
        "def rand():\n",
        "    global rnd_state\n",
        "    x, y, z = rnd_state\n",
        "    x = (171 * x) % 30269\n",
        "    y = (172 * y) % 30307\n",
        "    z = (170 * z) % 30323\n",
        "    rnd_state = x,y,z\n",
        "    return (x/30269 + y/30307 + z/30323) % 1.0"
      ]
    },
    {
      "cell_type": "code",
      "execution_count": 36,
      "metadata": {
        "id": "5fdQEOIZFV9s",
        "outputId": "d176ece4-74f2-4877-b327-80f99f417719",
        "colab": {
          "base_uri": "https://localhost:8080/"
        }
      },
      "outputs": [
        {
          "output_type": "execute_result",
          "data": {
            "text/plain": [
              "(0.7645251082582081, 0.7920889799553945, 0.06912886811267205)"
            ]
          },
          "metadata": {},
          "execution_count": 36
        }
      ],
      "source": [
        "rand(),rand(),rand()"
      ]
    },
    {
      "cell_type": "code",
      "execution_count": 37,
      "metadata": {
        "id": "WIU0O-rAFV9s",
        "outputId": "55010a71-37e9-489f-a935-68b552d862b7",
        "colab": {
          "base_uri": "https://localhost:8080/"
        }
      },
      "outputs": [
        {
          "output_type": "stream",
          "name": "stdout",
          "text": [
            "In parent: 0.9559050644103264\n",
            "In child: 0.9559050644103264\n"
          ]
        }
      ],
      "source": [
        "if os.fork(): print(f'In parent: {rand()}')\n",
        "else:\n",
        "    print(f'In child: {rand()}')\n",
        "    os._exit(os.EX_OK)"
      ]
    },
    {
      "cell_type": "code",
      "execution_count": 38,
      "metadata": {
        "id": "ZB1Huc4tFV9s",
        "outputId": "11bebaec-4c37-46b4-de00-e0f07468fca7",
        "colab": {
          "base_uri": "https://localhost:8080/"
        }
      },
      "outputs": [
        {
          "output_type": "stream",
          "name": "stdout",
          "text": [
            "In parent: tensor([0.6410])\n",
            "In child: tensor([0.6410])\n"
          ]
        }
      ],
      "source": [
        "if os.fork(): print(f'In parent: {torch.rand(1)}')\n",
        "else:\n",
        "    print(f'In child: {torch.rand(1)}')\n",
        "    os._exit(os.EX_OK)"
      ]
    },
    {
      "cell_type": "code",
      "source": [
        "if os.fork(): print(f'In parent: {rand()}')\n",
        "else:\n",
        "    seed(473894698)\n",
        "    print(f'In child: {rand()}')\n",
        "    os._exit(os.EX_OK)"
      ],
      "metadata": {
        "id": "nMoYjRqMZtL3",
        "outputId": "51dbe23b-56c8-46d2-f730-bbf6c12a519a",
        "colab": {
          "base_uri": "https://localhost:8080/"
        }
      },
      "execution_count": 39,
      "outputs": [
        {
          "output_type": "stream",
          "name": "stdout",
          "text": [
            "In parent: 0.840065633394744\n",
            "In child: 0.5848595122435336"
          ]
        }
      ]
    },
    {
      "cell_type": "code",
      "execution_count": 40,
      "metadata": {
        "id": "5npgBCnqFV9t",
        "outputId": "64c34348-c4e6-4075-e505-bfc3f9528728",
        "colab": {
          "base_uri": "https://localhost:8080/",
          "height": 430
        }
      },
      "outputs": [
        {
          "output_type": "display_data",
          "data": {
            "text/plain": [
              "<Figure size 640x480 with 1 Axes>"
            ],
            "image/png": "[encoded data removed]"
          },
          "metadata": {}
        }
      ],
      "source": [
        "plt.plot([rand() for _ in range(50)]);"
      ]
    },
    {
      "cell_type": "code",
      "execution_count": 44,
      "metadata": {
        "id": "_5o-P4KKFV9t",
        "outputId": "f7a66253-a64a-4fe6-962f-746a6831be04",
        "colab": {
          "base_uri": "https://localhost:8080/",
          "height": 430
        }
      },
      "outputs": [
        {
          "output_type": "display_data",
          "data": {
            "text/plain": [
              "<Figure size 640x480 with 1 Axes>"
            ],
            "image/png": "[encoded data removed]"
          },
          "metadata": {}
        }
      ],
      "source": [
        "plt.hist([rand() for _ in range(100000)]);"
      ]
    },
    {
      "cell_type": "code",
      "execution_count": 45,
      "metadata": {
        "id": "FJBk7Z0IFV9t",
        "outputId": "091213bb-1895-4f88-ab5d-1fafe962a113",
        "colab": {
          "base_uri": "https://localhost:8080/"
        }
      },
      "outputs": [
        {
          "output_type": "stream",
          "name": "stdout",
          "text": [
            "2.33 ms ± 137 µs per loop (mean ± std. dev. of 7 runs, 10 loops each)\n"
          ]
        }
      ],
      "source": [
        "%timeit -n 10 list(chunks([rand() for _ in range(7840)], 10))"
      ]
    },
    {
      "cell_type": "code",
      "execution_count": 46,
      "metadata": {
        "id": "p9tQbzzhFV9t",
        "outputId": "f8893a0f-b0af-4ed7-f114-094906da2c1c",
        "colab": {
          "base_uri": "https://localhost:8080/"
        }
      },
      "outputs": [
        {
          "output_type": "stream",
          "name": "stdout",
          "text": [
            "The slowest run took 4.72 times longer than the fastest. This could mean that an intermediate result is being cached.\n",
            "87 µs ± 57.7 µs per loop (mean ± std. dev. of 7 runs, 10 loops each)\n"
          ]
        }
      ],
      "source": [
        "%timeit -n 10 torch.randn(784,10)"
      ]
    },
    {
      "cell_type": "markdown",
      "metadata": {
        "id": "gMzBiqfEFV9t"
      },
      "source": [
        "## Matrix multiplication"
      ]
    },
    {
      "cell_type": "code",
      "execution_count": null,
      "metadata": {
        "id": "ouIFaoNpFV9t"
      },
      "outputs": [],
      "source": [
        "torch.manual_seed(1)\n",
        "weights = torch.randn(784,10)\n",
        "bias = torch.zeros(10)"
      ]
    },
    {
      "cell_type": "code",
      "execution_count": null,
      "metadata": {
        "id": "hcw10e6aFV9t"
      },
      "outputs": [],
      "source": [
        "m1 = x_valid[:5]\n",
        "m2 = weights"
      ]
    },
    {
      "cell_type": "code",
      "execution_count": null,
      "metadata": {
        "id": "yBBPtz0AFV9t",
        "outputId": "c986bd16-6d39-4fba-fd50-bf418d9e2344"
      },
      "outputs": [
        {
          "data": {
            "text/plain": [
              "(torch.Size([5, 784]), torch.Size([784, 10]))"
            ]
          },
          "execution_count": null,
          "metadata": {},
          "output_type": "execute_result"
        }
      ],
      "source": [
        "m1.shape,m2.shape"
      ]
    },
    {
      "cell_type": "code",
      "execution_count": null,
      "metadata": {
        "id": "d4r2sBHwFV9u",
        "outputId": "799a9207-6c6f-4c07-82aa-ae03683cb170"
      },
      "outputs": [
        {
          "data": {
            "text/plain": [
              "((5, 784), (784, 10))"
            ]
          },
          "execution_count": null,
          "metadata": {},
          "output_type": "execute_result"
        }
      ],
      "source": [
        "ar,ac = m1.shape # n_rows * n_cols\n",
        "br,bc = m2.shape\n",
        "(ar,ac),(br,bc)"
      ]
    },
    {
      "cell_type": "code",
      "execution_count": null,
      "metadata": {
        "id": "smls1pLgFV9v",
        "outputId": "cb6a441c-e955-4369-d2a0-e5e7f4fda000"
      },
      "outputs": [
        {
          "data": {
            "text/plain": [
              "torch.Size([5, 10])"
            ]
          },
          "execution_count": null,
          "metadata": {},
          "output_type": "execute_result"
        }
      ],
      "source": [
        "t1 = torch.zeros(ar, bc)\n",
        "t1.shape"
      ]
    },
    {
      "cell_type": "code",
      "execution_count": null,
      "metadata": {
        "id": "4BGF87ShFV9w"
      },
      "outputs": [],
      "source": [
        "for i in range(ar):         # 5\n",
        "    for j in range(bc):     # 10\n",
        "        for k in range(ac): # 784\n",
        "            t1[i,j] += m1[i,k] * m2[k,j]"
      ]
    },
    {
      "cell_type": "code",
      "execution_count": null,
      "metadata": {
        "id": "YV-p4lV8FV9w",
        "outputId": "fe4be633-d27e-4c82-a760-d55824986aab"
      },
      "outputs": [
        {
          "data": {
            "text/plain": [
              "tensor([[-10.9417,  -0.6844,  -7.0038,  -4.0066,  -2.0857,  -3.3588,   3.9127,\n",
              "          -3.4375, -11.4696,  -2.1153],\n",
              "        [ 14.5430,   5.9977,   2.8914,  -4.0777,   6.5914, -14.7383,  -9.2787,\n",
              "           2.1577, -15.2772,  -2.6758],\n",
              "        [  2.2204,  -3.2171,  -4.7988,  -6.0453,  14.1661,  -8.9824,  -4.7922,\n",
              "          -5.4446, -20.6758,  13.5657],\n",
              "        [ -6.7097,   8.8998,  -7.4611,  -7.8966,   2.6994,  -4.7260, -11.0278,\n",
              "         -12.9776,  -6.4443,   3.6376],\n",
              "        [ -2.4444,  -6.4034,  -2.3984,  -9.0371,  11.1772,  -5.7724,  -8.9214,\n",
              "          -3.7862,  -8.9827,   5.2797]])"
            ]
          },
          "execution_count": null,
          "metadata": {},
          "output_type": "execute_result"
        }
      ],
      "source": [
        "t1"
      ]
    },
    {
      "cell_type": "code",
      "execution_count": null,
      "metadata": {
        "id": "i3MIOfY8FV9w",
        "outputId": "20998c92-2dc3-4f32-b314-a341fee859f3"
      },
      "outputs": [
        {
          "data": {
            "text/plain": [
              "torch.Size([5, 10])"
            ]
          },
          "execution_count": null,
          "metadata": {},
          "output_type": "execute_result"
        }
      ],
      "source": [
        "t1.shape"
      ]
    },
    {
      "cell_type": "code",
      "execution_count": null,
      "metadata": {
        "id": "ZleW1gXMFV9w",
        "outputId": "c07256ed-9982-44d8-85e8-fc9284de8023"
      },
      "outputs": [
        {
          "data": {
            "text/plain": [
              "tensor([[-10.94,  -0.68,  -7.00,  -4.01,  -2.09,  -3.36,   3.91,  -3.44, -11.47,  -2.12],\n",
              "        [ 14.54,   6.00,   2.89,  -4.08,   6.59, -14.74,  -9.28,   2.16, -15.28,  -2.68],\n",
              "        [  2.22,  -3.22,  -4.80,  -6.05,  14.17,  -8.98,  -4.79,  -5.44, -20.68,  13.57],\n",
              "        [ -6.71,   8.90,  -7.46,  -7.90,   2.70,  -4.73, -11.03, -12.98,  -6.44,   3.64],\n",
              "        [ -2.44,  -6.40,  -2.40,  -9.04,  11.18,  -5.77,  -8.92,  -3.79,  -8.98,   5.28]])"
            ]
          },
          "execution_count": null,
          "metadata": {},
          "output_type": "execute_result"
        }
      ],
      "source": [
        "torch.set_printoptions(precision=2, linewidth=140, sci_mode=False)\n",
        "t1"
      ]
    },
    {
      "cell_type": "code",
      "execution_count": null,
      "metadata": {
        "id": "YRmIl9fiFV9x"
      },
      "outputs": [],
      "source": [
        "import numpy as np\n",
        "np.set_printoptions(precision=2, linewidth=140)"
      ]
    },
    {
      "cell_type": "code",
      "execution_count": null,
      "metadata": {
        "id": "V7F_KlhQFV9x"
      },
      "outputs": [],
      "source": [
        "def matmul(a,b):\n",
        "    (ar,ac),(br,bc) = a.shape,b.shape\n",
        "    c = torch.zeros(ar, bc)\n",
        "    for i in range(ar):\n",
        "        for j in range(bc):\n",
        "            for k in range(ac): c[i,j] += a[i,k] * b[k,j]\n",
        "    return c"
      ]
    },
    {
      "cell_type": "code",
      "execution_count": null,
      "metadata": {
        "id": "R86DO3hQFV9x",
        "outputId": "f04447df-7764-427c-8036-b8853a4ae893"
      },
      "outputs": [
        {
          "name": "stdout",
          "output_type": "stream",
          "text": [
            "CPU times: user 421 ms, sys: 131 µs, total: 421 ms\n",
            "Wall time: 421 ms\n"
          ]
        }
      ],
      "source": [
        "%time _=matmul(m1, m2)"
      ]
    },
    {
      "cell_type": "code",
      "execution_count": null,
      "metadata": {
        "id": "JZrhBshFFV9x",
        "outputId": "db54f587-0a51-40e9-f6cc-d6eb47e9672e"
      },
      "outputs": [
        {
          "data": {
            "text/plain": [
              "39200"
            ]
          },
          "execution_count": null,
          "metadata": {},
          "output_type": "execute_result"
        }
      ],
      "source": [
        "ar*bc*ac"
      ]
    },
    {
      "cell_type": "markdown",
      "metadata": {
        "id": "rK3RJpQNFV9y"
      },
      "source": [
        "## Numba"
      ]
    },
    {
      "cell_type": "code",
      "execution_count": null,
      "metadata": {
        "id": "0pHmF0yOFV9y"
      },
      "outputs": [],
      "source": [
        "from numba import njit"
      ]
    },
    {
      "cell_type": "code",
      "execution_count": null,
      "metadata": {
        "id": "HClufXmsFV9y"
      },
      "outputs": [],
      "source": [
        "@njit\n",
        "def dot(a,b):\n",
        "    res = 0.\n",
        "    for i in range(len(a)): res+=a[i]*b[i]\n",
        "    return res"
      ]
    },
    {
      "cell_type": "code",
      "execution_count": null,
      "metadata": {
        "id": "5q8thaFBFV9y"
      },
      "outputs": [],
      "source": [
        "from numpy import array"
      ]
    },
    {
      "cell_type": "code",
      "execution_count": null,
      "metadata": {
        "id": "nVkL1kquFV9y",
        "outputId": "1429a965-1e21-4750-f742-28c60ba5c670"
      },
      "outputs": [
        {
          "name": "stdout",
          "output_type": "stream",
          "text": [
            "CPU times: user 184 ms, sys: 12 ms, total: 196 ms\n",
            "Wall time: 196 ms\n"
          ]
        },
        {
          "data": {
            "text/plain": [
              "20.0"
            ]
          },
          "execution_count": null,
          "metadata": {},
          "output_type": "execute_result"
        }
      ],
      "source": [
        "%time dot(array([1.,2,3]),array([2.,3,4]))"
      ]
    },
    {
      "cell_type": "code",
      "execution_count": null,
      "metadata": {
        "id": "upFjOf7dFV9y",
        "outputId": "58278476-d2e9-4297-fa99-a558f1eb4643"
      },
      "outputs": [
        {
          "name": "stdout",
          "output_type": "stream",
          "text": [
            "CPU times: user 15 µs, sys: 0 ns, total: 15 µs\n",
            "Wall time: 17.6 µs\n"
          ]
        },
        {
          "data": {
            "text/plain": [
              "20.0"
            ]
          },
          "execution_count": null,
          "metadata": {},
          "output_type": "execute_result"
        }
      ],
      "source": [
        "%time dot(array([1.,2,3]),array([2.,3,4]))"
      ]
    },
    {
      "cell_type": "markdown",
      "metadata": {
        "id": "V0wrNpFIFV9z"
      },
      "source": [
        "Now only two of our loops are running in Python, not three:"
      ]
    },
    {
      "cell_type": "code",
      "execution_count": null,
      "metadata": {
        "id": "k5GEBYdsFV9z"
      },
      "outputs": [],
      "source": [
        "def matmul(a,b):\n",
        "    (ar,ac),(br,bc) = a.shape,b.shape\n",
        "    c = torch.zeros(ar, bc)\n",
        "    for i in range(ar):\n",
        "        for j in range(bc): c[i,j] = dot(a[i,:], b[:,j])\n",
        "    return c"
      ]
    },
    {
      "cell_type": "code",
      "execution_count": null,
      "metadata": {
        "id": "fPvLD9I6FV9z"
      },
      "outputs": [],
      "source": [
        "m1a,m2a = m1.numpy(),m2.numpy()"
      ]
    },
    {
      "cell_type": "code",
      "execution_count": null,
      "metadata": {
        "id": "ghNl9QGQFV9z"
      },
      "outputs": [],
      "source": [
        "from fastcore.test import *"
      ]
    },
    {
      "cell_type": "code",
      "execution_count": null,
      "metadata": {
        "id": "oe8Xir42FV9z"
      },
      "outputs": [],
      "source": [
        "test_close(t1,matmul(m1a, m2a))"
      ]
    },
    {
      "cell_type": "code",
      "execution_count": null,
      "metadata": {
        "id": "i6PVdhTRFV9z",
        "outputId": "0e4e3f48-3e4a-432e-a9b8-3751e746658c"
      },
      "outputs": [
        {
          "name": "stdout",
          "output_type": "stream",
          "text": [
            "236 µs ± 3.51 µs per loop (mean ± std. dev. of 7 runs, 50 loops each)\n"
          ]
        }
      ],
      "source": [
        "%timeit -n 50 matmul(m1a,m2a)"
      ]
    },
    {
      "cell_type": "markdown",
      "metadata": {
        "id": "4G_KbMaSFV9z"
      },
      "source": [
        "## Elementwise ops"
      ]
    },
    {
      "cell_type": "markdown",
      "metadata": {
        "id": "uB96ZLeXFV9z"
      },
      "source": [
        "[TryAPL](https://tryapl.org/)"
      ]
    },
    {
      "cell_type": "code",
      "execution_count": null,
      "metadata": {
        "id": "f4XPZmBzFV9z",
        "outputId": "e1954d1c-df4a-4289-b1e8-7780b9124726"
      },
      "outputs": [
        {
          "data": {
            "text/plain": [
              "(tensor([10.,  6., -4.]), tensor([2., 8., 7.]))"
            ]
          },
          "execution_count": null,
          "metadata": {},
          "output_type": "execute_result"
        }
      ],
      "source": [
        "a = tensor([10., 6, -4])\n",
        "b = tensor([2., 8, 7])\n",
        "a,b"
      ]
    },
    {
      "cell_type": "code",
      "execution_count": null,
      "metadata": {
        "id": "I2fXegJbFV90",
        "outputId": "1f951245-e68d-4adc-dcb7-5da63dae64b5"
      },
      "outputs": [
        {
          "data": {
            "text/plain": [
              "tensor([12., 14.,  3.])"
            ]
          },
          "execution_count": null,
          "metadata": {},
          "output_type": "execute_result"
        }
      ],
      "source": [
        "a + b"
      ]
    },
    {
      "cell_type": "code",
      "execution_count": null,
      "metadata": {
        "id": "FwPc2TXEFV90",
        "outputId": "2cae9a00-135e-410a-e422-94d65f85b7d4"
      },
      "outputs": [
        {
          "data": {
            "text/plain": [
              "tensor(0.67)"
            ]
          },
          "execution_count": null,
          "metadata": {},
          "output_type": "execute_result"
        }
      ],
      "source": [
        "(a < b).float().mean()"
      ]
    },
    {
      "cell_type": "code",
      "execution_count": null,
      "metadata": {
        "id": "E6BAFMTNFV90",
        "outputId": "d7738823-a5be-4376-cc57-4fd9e604eaa6"
      },
      "outputs": [
        {
          "data": {
            "text/plain": [
              "tensor([[1., 2., 3.],\n",
              "        [4., 5., 6.],\n",
              "        [7., 8., 9.]])"
            ]
          },
          "execution_count": null,
          "metadata": {},
          "output_type": "execute_result"
        }
      ],
      "source": [
        "m = tensor([[1., 2, 3], [4,5,6], [7,8,9]]); m"
      ]
    },
    {
      "cell_type": "markdown",
      "metadata": {
        "id": "d5zpyGQvFV90"
      },
      "source": [
        "Frobenius norm:\n",
        "\n",
        "$$\\| A \\|_F = \\left( \\sum_{i,j=1}^n | a_{ij} |^2 \\right)^{1/2}$$\n",
        "\n",
        "*Hint*: you don't normally need to write equations in LaTeX yourself, instead, you can click 'edit' in Wikipedia and copy the LaTeX from there (which is what I did for the above equation). Or on arxiv.org, click \"Download: Other formats\" in the top right, then \"Download source\"; rename the downloaded file to end in `.tgz` if it doesn't already, and you should find the source there, including the equations to copy and paste. This is the source LaTeX that I pasted to render the equation above:\n",
        "\n",
        "```latex\n",
        "$$\\| A \\|_F = \\left( \\sum_{i,j=1}^n | a_{ij} |^2 \\right)^{1/2}$$\n",
        "```"
      ]
    },
    {
      "cell_type": "code",
      "execution_count": null,
      "metadata": {
        "id": "LDZJOPQJFV90",
        "outputId": "86b2881f-0d9a-44ea-d5a0-fd221c7dc3ee"
      },
      "outputs": [
        {
          "data": {
            "text/plain": [
              "tensor(285.)"
            ]
          },
          "execution_count": null,
          "metadata": {},
          "output_type": "execute_result"
        }
      ],
      "source": [
        "sf = (m*m).sum()\n",
        "sf"
      ]
    },
    {
      "cell_type": "code",
      "execution_count": null,
      "metadata": {
        "id": "XYiKXhB3FV90",
        "outputId": "67e30c22-5709-4743-c5ab-031f6fea7d21"
      },
      "outputs": [
        {
          "data": {
            "text/plain": [
              "tensor(16.88)"
            ]
          },
          "execution_count": null,
          "metadata": {},
          "output_type": "execute_result"
        }
      ],
      "source": [
        "sf.sqrt()"
      ]
    },
    {
      "cell_type": "code",
      "execution_count": null,
      "metadata": {
        "id": "IUe4P-OyFV90",
        "outputId": "12f35dd7-22c4-4c16-dc80-2fec0c32980c"
      },
      "outputs": [
        {
          "data": {
            "text/plain": [
              "(tensor([7., 8., 9.]), tensor([3., 6., 9.]))"
            ]
          },
          "execution_count": null,
          "metadata": {},
          "output_type": "execute_result"
        }
      ],
      "source": [
        "m[2,:],m[:,2]"
      ]
    },
    {
      "cell_type": "code",
      "execution_count": null,
      "metadata": {
        "id": "axDtqXvmFV91",
        "outputId": "1fde8b4a-33c8-4253-d525-7e54ab532cdd"
      },
      "outputs": [
        {
          "data": {
            "text/plain": [
              "tensor([7., 8., 9.])"
            ]
          },
          "execution_count": null,
          "metadata": {},
          "output_type": "execute_result"
        }
      ],
      "source": [
        "m[2]"
      ]
    },
    {
      "cell_type": "code",
      "execution_count": null,
      "metadata": {
        "id": "8_ph7PbAFV91"
      },
      "outputs": [],
      "source": [
        "def matmul(a,b):\n",
        "    (ar,ac),(br,bc) = a.shape,b.shape\n",
        "    c = torch.zeros(ar, bc)\n",
        "    for i in range(ar):\n",
        "        for j in range(bc): c[i,j] = (a[i,:] * b[:,j]).sum()\n",
        "    return c"
      ]
    },
    {
      "cell_type": "code",
      "execution_count": null,
      "metadata": {
        "id": "-82hm04uFV91"
      },
      "outputs": [],
      "source": [
        "test_close(t1,matmul(m1, m2))"
      ]
    },
    {
      "cell_type": "code",
      "execution_count": null,
      "metadata": {
        "id": "pOYKONX-FV91",
        "outputId": "0c940fc6-121c-42c8-a0ba-953122cda81a"
      },
      "outputs": [
        {
          "name": "stdout",
          "output_type": "stream",
          "text": [
            "598 µs ± 4.2 µs per loop (mean ± std. dev. of 7 runs, 50 loops each)\n"
          ]
        }
      ],
      "source": [
        "%timeit -n 50 _=matmul(m1, m2)"
      ]
    },
    {
      "cell_type": "code",
      "execution_count": null,
      "metadata": {
        "id": "yTSLQxHKFV91"
      },
      "outputs": [],
      "source": [
        "def matmul(a,b):\n",
        "    (ar,ac),(br,bc) = a.shape,b.shape\n",
        "    c = torch.zeros(ar, bc)\n",
        "    for i in range(ar):\n",
        "        for j in range(bc): c[i,j] = torch.dot(a[i,:], b[:,j])\n",
        "    return c"
      ]
    },
    {
      "cell_type": "code",
      "execution_count": null,
      "metadata": {
        "id": "AVUaHh6JFV91"
      },
      "outputs": [],
      "source": [
        "test_close(t1,matmul(m1, m2))"
      ]
    },
    {
      "cell_type": "code",
      "execution_count": null,
      "metadata": {
        "id": "HrND5ELaFV91",
        "outputId": "a774aef9-0933-4ed2-a448-ea8c330911bc"
      },
      "outputs": [
        {
          "name": "stdout",
          "output_type": "stream",
          "text": [
            "481 µs ± 4.9 µs per loop (mean ± std. dev. of 7 runs, 50 loops each)\n"
          ]
        }
      ],
      "source": [
        "%timeit -n 50 _=matmul(m1, m2)"
      ]
    },
    {
      "cell_type": "markdown",
      "metadata": {
        "id": "sKu3tUywFV91"
      },
      "source": [
        "## Broadcasting"
      ]
    },
    {
      "cell_type": "markdown",
      "metadata": {
        "id": "Q0Do9vrpFV91"
      },
      "source": [
        "The term **broadcasting** describes how arrays with different shapes are treated during arithmetic operations.\n",
        "\n",
        "From the [Numpy Documentation](https://docs.scipy.org/doc/numpy-1.10.0/user/basics.broadcasting.html):\n",
        "\n",
        "    The term broadcasting describes how numpy treats arrays with\n",
        "    different shapes during arithmetic operations. Subject to certain\n",
        "    constraints, the smaller array is “broadcast” across the larger\n",
        "    array so that they have compatible shapes. Broadcasting provides a\n",
        "    means of vectorizing array operations so that looping occurs in C\n",
        "    instead of Python. It does this without making needless copies of\n",
        "    data and usually leads to efficient algorithm implementations.\n",
        "    \n",
        "In addition to the efficiency of broadcasting, it allows developers to write less code, which typically leads to fewer errors.\n",
        "\n",
        "*This section was adapted from [Chapter 4](http://nbviewer.jupyter.org/github/fastai/numerical-linear-algebra/blob/master/nbs/4.%20Compressed%20Sensing%20of%20CT%20Scans%20with%20Robust%20Regression.ipynb#4.-Compressed-Sensing-of-CT-Scans-with-Robust-Regression) of the fast.ai [Computational Linear Algebra](https://github.com/fastai/numerical-linear-algebra) course.*"
      ]
    },
    {
      "cell_type": "markdown",
      "metadata": {
        "id": "Op6o4TfpFV92"
      },
      "source": [
        "### Broadcasting with a scalar"
      ]
    },
    {
      "cell_type": "code",
      "execution_count": null,
      "metadata": {
        "id": "cUnzD21qFV92",
        "outputId": "3e289da7-adfe-4171-e82c-b7c3d80e2b41"
      },
      "outputs": [
        {
          "data": {
            "text/plain": [
              "tensor([10.,  6., -4.])"
            ]
          },
          "execution_count": null,
          "metadata": {},
          "output_type": "execute_result"
        }
      ],
      "source": [
        "a"
      ]
    },
    {
      "cell_type": "code",
      "execution_count": null,
      "metadata": {
        "id": "c5hJ1ha-FV92",
        "outputId": "3f550bb1-7917-4c05-dc08-39769df21a14"
      },
      "outputs": [
        {
          "data": {
            "text/plain": [
              "tensor([ True,  True, False])"
            ]
          },
          "execution_count": null,
          "metadata": {},
          "output_type": "execute_result"
        }
      ],
      "source": [
        "a > 0"
      ]
    },
    {
      "cell_type": "markdown",
      "metadata": {
        "id": "eqIwIaZsFV92"
      },
      "source": [
        "How are we able to do `a > 0`?  0 is being **broadcast** to have the same dimensions as a.\n",
        "\n",
        "For instance you can normalize our dataset by subtracting the mean (a scalar) from the entire data set (a matrix) and dividing by the standard deviation (another scalar), using broadcasting.\n",
        "\n",
        "Other examples of broadcasting with a scalar:"
      ]
    },
    {
      "cell_type": "code",
      "execution_count": null,
      "metadata": {
        "id": "AOmb8FSPFV92",
        "outputId": "9c2b5347-89d4-4bb0-f702-50df2fa45031"
      },
      "outputs": [
        {
          "data": {
            "text/plain": [
              "tensor([11.,  7., -3.])"
            ]
          },
          "execution_count": null,
          "metadata": {},
          "output_type": "execute_result"
        }
      ],
      "source": [
        "a + 1"
      ]
    },
    {
      "cell_type": "code",
      "execution_count": null,
      "metadata": {
        "id": "ZK6sAhHjFV92",
        "outputId": "a014f948-7417-4a89-d4af-4f2954ee4d31"
      },
      "outputs": [
        {
          "data": {
            "text/plain": [
              "tensor([[1., 2., 3.],\n",
              "        [4., 5., 6.],\n",
              "        [7., 8., 9.]])"
            ]
          },
          "execution_count": null,
          "metadata": {},
          "output_type": "execute_result"
        }
      ],
      "source": [
        "m"
      ]
    },
    {
      "cell_type": "code",
      "execution_count": null,
      "metadata": {
        "id": "Meoo97CiFV92",
        "outputId": "488ff48e-7c3c-497a-dc99-05ef34e0005e"
      },
      "outputs": [
        {
          "data": {
            "text/plain": [
              "tensor([[ 2.,  4.,  6.],\n",
              "        [ 8., 10., 12.],\n",
              "        [14., 16., 18.]])"
            ]
          },
          "execution_count": null,
          "metadata": {},
          "output_type": "execute_result"
        }
      ],
      "source": [
        "2*m"
      ]
    },
    {
      "cell_type": "markdown",
      "metadata": {
        "id": "fW27ZqPLFV92"
      },
      "source": [
        "### Broadcasting a vector to a matrix"
      ]
    },
    {
      "cell_type": "markdown",
      "metadata": {
        "id": "EuuQGelEFV92"
      },
      "source": [
        "Although broadcasting a scalar is an idea that dates back to APL, the more powerful idea of broadcasting across higher rank tensors [comes from](https://mail.python.org/pipermail/matrix-sig/1995-November/000143.html) a little known language called [Yorick](https://software.llnl.gov/yorick-doc/manual/yorick_50.html).\n",
        "\n",
        "We can also broadcast a vector to a matrix:"
      ]
    },
    {
      "cell_type": "code",
      "execution_count": null,
      "metadata": {
        "id": "iwsgLRgXFV93",
        "outputId": "91e26060-efb1-4fe7-cfbd-3a863fdcc37d"
      },
      "outputs": [
        {
          "data": {
            "text/plain": [
              "tensor([10., 20., 30.])"
            ]
          },
          "execution_count": null,
          "metadata": {},
          "output_type": "execute_result"
        }
      ],
      "source": [
        "c = tensor([10.,20,30]); c"
      ]
    },
    {
      "cell_type": "code",
      "execution_count": null,
      "metadata": {
        "id": "hes_a-bzFV93",
        "outputId": "14c3a44d-9e82-4cd2-fc9c-0fb7d277be99"
      },
      "outputs": [
        {
          "data": {
            "text/plain": [
              "tensor([[1., 2., 3.],\n",
              "        [4., 5., 6.],\n",
              "        [7., 8., 9.]])"
            ]
          },
          "execution_count": null,
          "metadata": {},
          "output_type": "execute_result"
        }
      ],
      "source": [
        "m"
      ]
    },
    {
      "cell_type": "code",
      "execution_count": null,
      "metadata": {
        "id": "nCEQso0oFV93",
        "outputId": "80489585-9cfa-4204-940f-0cc9fe248b8f"
      },
      "outputs": [
        {
          "data": {
            "text/plain": [
              "(torch.Size([3, 3]), torch.Size([3]))"
            ]
          },
          "execution_count": null,
          "metadata": {},
          "output_type": "execute_result"
        }
      ],
      "source": [
        "m.shape,c.shape"
      ]
    },
    {
      "cell_type": "code",
      "execution_count": null,
      "metadata": {
        "id": "9dtsaqJlFV93",
        "outputId": "bf772e6b-42d7-4ade-f806-89a803cfa84f"
      },
      "outputs": [
        {
          "data": {
            "text/plain": [
              "tensor([[11., 22., 33.],\n",
              "        [14., 25., 36.],\n",
              "        [17., 28., 39.]])"
            ]
          },
          "execution_count": null,
          "metadata": {},
          "output_type": "execute_result"
        }
      ],
      "source": [
        "m + c"
      ]
    },
    {
      "cell_type": "code",
      "execution_count": null,
      "metadata": {
        "id": "4y5qENfuFV93",
        "outputId": "98c2908d-0518-4098-c3e5-7f5c1f8b76fa"
      },
      "outputs": [
        {
          "data": {
            "text/plain": [
              "tensor([[11., 22., 33.],\n",
              "        [14., 25., 36.],\n",
              "        [17., 28., 39.]])"
            ]
          },
          "execution_count": null,
          "metadata": {},
          "output_type": "execute_result"
        }
      ],
      "source": [
        "c + m"
      ]
    },
    {
      "cell_type": "code",
      "execution_count": null,
      "metadata": {
        "id": "jTmI7b2yFV93"
      },
      "outputs": [],
      "source": [
        "t = c.expand_as(m)"
      ]
    },
    {
      "cell_type": "code",
      "execution_count": null,
      "metadata": {
        "id": "f9npzyxaFV93",
        "outputId": "2916e911-5556-4988-b1b4-a4fd1669ba2f"
      },
      "outputs": [
        {
          "data": {
            "text/plain": [
              "tensor([[10., 20., 30.],\n",
              "        [10., 20., 30.],\n",
              "        [10., 20., 30.]])"
            ]
          },
          "execution_count": null,
          "metadata": {},
          "output_type": "execute_result"
        }
      ],
      "source": [
        "t"
      ]
    },
    {
      "cell_type": "code",
      "execution_count": null,
      "metadata": {
        "id": "FPPjBLh2FV94",
        "outputId": "a85fac13-3dc0-4650-8ea1-52821dfd20ba"
      },
      "outputs": [
        {
          "data": {
            "text/plain": [
              "tensor([[11., 22., 33.],\n",
              "        [14., 25., 36.],\n",
              "        [17., 28., 39.]])"
            ]
          },
          "execution_count": null,
          "metadata": {},
          "output_type": "execute_result"
        }
      ],
      "source": [
        "m + t"
      ]
    },
    {
      "cell_type": "markdown",
      "metadata": {
        "id": "ScP02TZ1FV94"
      },
      "source": [
        "We don't really copy the rows, but it looks as if we did. In fact, the rows are given a *stride* of 0."
      ]
    },
    {
      "cell_type": "code",
      "execution_count": null,
      "metadata": {
        "id": "rV1SZ00TFV94",
        "outputId": "a08c8674-154b-420a-d018-6352339f1c57"
      },
      "outputs": [
        {
          "data": {
            "text/plain": [
              " 10.0\n",
              " 20.0\n",
              " 30.0\n",
              "[torch.storage._TypedStorage(dtype=torch.float32, device=cpu) of size 3]"
            ]
          },
          "execution_count": null,
          "metadata": {},
          "output_type": "execute_result"
        }
      ],
      "source": [
        "t.storage()"
      ]
    },
    {
      "cell_type": "code",
      "execution_count": null,
      "metadata": {
        "id": "IYTjZq-uFV94",
        "outputId": "fdcd60fb-1ab4-401a-db6b-8a2915fb78a1"
      },
      "outputs": [
        {
          "data": {
            "text/plain": [
              "((0, 1), torch.Size([3, 3]))"
            ]
          },
          "execution_count": null,
          "metadata": {},
          "output_type": "execute_result"
        }
      ],
      "source": [
        "t.stride(), t.shape"
      ]
    },
    {
      "cell_type": "markdown",
      "metadata": {
        "id": "8GP1YeDqFV94"
      },
      "source": [
        "You can index with the special value [None] or use `unsqueeze()` to convert a 1-dimensional array into a 2-dimensional array (although one of those dimensions has value 1)."
      ]
    },
    {
      "cell_type": "code",
      "execution_count": null,
      "metadata": {
        "id": "zQhaPj2AFV94",
        "outputId": "a2e77682-9aeb-4758-8c61-744d4b06e087"
      },
      "outputs": [
        {
          "data": {
            "text/plain": [
              "(tensor([[10., 20., 30.]]), tensor([[10., 20., 30.]]))"
            ]
          },
          "execution_count": null,
          "metadata": {},
          "output_type": "execute_result"
        }
      ],
      "source": [
        "c.unsqueeze(0), c[None, :]"
      ]
    },
    {
      "cell_type": "code",
      "execution_count": null,
      "metadata": {
        "id": "AW3zDjdcFV94",
        "outputId": "2d678346-84cd-44fa-bfbb-e78924e651e2"
      },
      "outputs": [
        {
          "data": {
            "text/plain": [
              "(torch.Size([3]), torch.Size([1, 3]))"
            ]
          },
          "execution_count": null,
          "metadata": {},
          "output_type": "execute_result"
        }
      ],
      "source": [
        "c.shape, c.unsqueeze(0).shape"
      ]
    },
    {
      "cell_type": "code",
      "execution_count": null,
      "metadata": {
        "id": "ypwTu8v5FV94",
        "outputId": "bb25b4e6-7b28-4cae-86f6-95b79987002e"
      },
      "outputs": [
        {
          "data": {
            "text/plain": [
              "(tensor([[10.],\n",
              "         [20.],\n",
              "         [30.]]),\n",
              " tensor([[10.],\n",
              "         [20.],\n",
              "         [30.]]))"
            ]
          },
          "execution_count": null,
          "metadata": {},
          "output_type": "execute_result"
        }
      ],
      "source": [
        "c.unsqueeze(1), c[:, None]"
      ]
    },
    {
      "cell_type": "code",
      "execution_count": null,
      "metadata": {
        "id": "9PwboiP5FV94",
        "outputId": "93611948-d9fe-4f9e-9393-2a05b632ad25"
      },
      "outputs": [
        {
          "data": {
            "text/plain": [
              "(torch.Size([3]), torch.Size([3, 1]))"
            ]
          },
          "execution_count": null,
          "metadata": {},
          "output_type": "execute_result"
        }
      ],
      "source": [
        "c.shape, c.unsqueeze(1).shape"
      ]
    },
    {
      "cell_type": "markdown",
      "metadata": {
        "id": "ncLOSWQPFV95"
      },
      "source": [
        "You can always skip trailling ':'s. And '...' means '*all preceding dimensions*'"
      ]
    },
    {
      "cell_type": "code",
      "execution_count": null,
      "metadata": {
        "id": "nRHxj0h8FV95",
        "outputId": "d0995245-f403-4986-fc73-c275c395921c"
      },
      "outputs": [
        {
          "data": {
            "text/plain": [
              "(torch.Size([1, 3]), torch.Size([3, 1]))"
            ]
          },
          "execution_count": null,
          "metadata": {},
          "output_type": "execute_result"
        }
      ],
      "source": [
        "c[None].shape,c[...,None].shape"
      ]
    },
    {
      "cell_type": "code",
      "execution_count": null,
      "metadata": {
        "id": "4kPyVkKnFV95",
        "outputId": "dde24c5a-58f6-4902-d40e-b71efd571c5f"
      },
      "outputs": [
        {
          "data": {
            "text/plain": [
              "tensor([[10., 10., 10.],\n",
              "        [20., 20., 20.],\n",
              "        [30., 30., 30.]])"
            ]
          },
          "execution_count": null,
          "metadata": {},
          "output_type": "execute_result"
        }
      ],
      "source": [
        "c[:,None].expand_as(m)"
      ]
    },
    {
      "cell_type": "code",
      "execution_count": null,
      "metadata": {
        "id": "SY7j27PAFV95",
        "outputId": "130720ac-0e72-4d4a-ab2e-5b2b8a0f8590"
      },
      "outputs": [
        {
          "data": {
            "text/plain": [
              "tensor([[11., 12., 13.],\n",
              "        [24., 25., 26.],\n",
              "        [37., 38., 39.]])"
            ]
          },
          "execution_count": null,
          "metadata": {},
          "output_type": "execute_result"
        }
      ],
      "source": [
        "m + c[:,None]"
      ]
    },
    {
      "cell_type": "code",
      "execution_count": null,
      "metadata": {
        "id": "7jkVfn5CFV95",
        "outputId": "ac845378-3ce5-4c29-9ae5-d40cc93d90fa"
      },
      "outputs": [
        {
          "data": {
            "text/plain": [
              "tensor([[11., 22., 33.],\n",
              "        [14., 25., 36.],\n",
              "        [17., 28., 39.]])"
            ]
          },
          "execution_count": null,
          "metadata": {},
          "output_type": "execute_result"
        }
      ],
      "source": [
        "m + c[None,:]"
      ]
    },
    {
      "cell_type": "markdown",
      "metadata": {
        "id": "vXYBHK2pFV95"
      },
      "source": [
        "### Broadcasting Rules"
      ]
    },
    {
      "cell_type": "code",
      "execution_count": null,
      "metadata": {
        "id": "khCCVacXFV95",
        "outputId": "44fdbfef-4c0c-46d4-e355-4ba396c02cf0"
      },
      "outputs": [
        {
          "data": {
            "text/plain": [
              "tensor([[10., 20., 30.]])"
            ]
          },
          "execution_count": null,
          "metadata": {},
          "output_type": "execute_result"
        }
      ],
      "source": [
        "c[None,:]"
      ]
    },
    {
      "cell_type": "code",
      "execution_count": null,
      "metadata": {
        "id": "_SbwWokAFV95",
        "outputId": "c7e2b4c4-34ef-44be-e515-8a03271c99fc"
      },
      "outputs": [
        {
          "data": {
            "text/plain": [
              "torch.Size([1, 3])"
            ]
          },
          "execution_count": null,
          "metadata": {},
          "output_type": "execute_result"
        }
      ],
      "source": [
        "c[None,:].shape"
      ]
    },
    {
      "cell_type": "code",
      "execution_count": null,
      "metadata": {
        "id": "Ta_sm6-yFV96",
        "outputId": "f82edbb3-a81e-4b68-8d7c-14366bee7a29"
      },
      "outputs": [
        {
          "data": {
            "text/plain": [
              "tensor([[10.],\n",
              "        [20.],\n",
              "        [30.]])"
            ]
          },
          "execution_count": null,
          "metadata": {},
          "output_type": "execute_result"
        }
      ],
      "source": [
        "c[:,None]"
      ]
    },
    {
      "cell_type": "code",
      "execution_count": null,
      "metadata": {
        "id": "2FzG1qoNFV96",
        "outputId": "c9097b98-30a9-4c1d-caff-3ee63ab3b37e"
      },
      "outputs": [
        {
          "data": {
            "text/plain": [
              "torch.Size([3, 1])"
            ]
          },
          "execution_count": null,
          "metadata": {},
          "output_type": "execute_result"
        }
      ],
      "source": [
        "c[:,None].shape"
      ]
    },
    {
      "cell_type": "code",
      "execution_count": null,
      "metadata": {
        "id": "WSRLLKdDFV96",
        "outputId": "a8d8d1d0-a392-4374-bc8a-f6894fd1f1ca"
      },
      "outputs": [
        {
          "data": {
            "text/plain": [
              "tensor([[100., 200., 300.],\n",
              "        [200., 400., 600.],\n",
              "        [300., 600., 900.]])"
            ]
          },
          "execution_count": null,
          "metadata": {},
          "output_type": "execute_result"
        }
      ],
      "source": [
        "c[None,:] * c[:,None]"
      ]
    },
    {
      "cell_type": "code",
      "execution_count": null,
      "metadata": {
        "id": "WtTJ-EPeFV96",
        "outputId": "0a49a38b-098a-43eb-8a60-53a5d719ce42"
      },
      "outputs": [
        {
          "data": {
            "text/plain": [
              "tensor([[False,  True,  True],\n",
              "        [False, False,  True],\n",
              "        [False, False, False]])"
            ]
          },
          "execution_count": null,
          "metadata": {},
          "output_type": "execute_result"
        }
      ],
      "source": [
        "c[None] > c[:,None]"
      ]
    },
    {
      "cell_type": "code",
      "execution_count": null,
      "metadata": {
        "id": "1zNN31ywFV96",
        "outputId": "ba77e402-db61-4735-f677-013c65104893"
      },
      "outputs": [
        {
          "data": {
            "text/plain": [
              "tensor([[ 1.,  4.,  9.],\n",
              "        [16., 25., 36.],\n",
              "        [49., 64., 81.]])"
            ]
          },
          "execution_count": null,
          "metadata": {},
          "output_type": "execute_result"
        }
      ],
      "source": [
        "m*m"
      ]
    },
    {
      "cell_type": "markdown",
      "metadata": {
        "id": "RKGpGqxaFV96"
      },
      "source": [
        "When operating on two arrays/tensors, Numpy/PyTorch compares their shapes element-wise. It starts with the **trailing dimensions**, and works its way forward. Two dimensions are **compatible** when\n",
        "\n",
        "- they are equal, or\n",
        "- one of them is 1, in which case that dimension is broadcasted to make it the same size\n",
        "\n",
        "Arrays do not need to have the same number of dimensions. For example, if you have a `256*256*3` array of RGB values, and you want to scale each color in the image by a different value, you can multiply the image by a one-dimensional array with 3 values. Lining up the sizes of the trailing axes of these arrays according to the broadcast rules, shows that they are compatible:\n",
        "\n",
        "    Image  (3d array): 256 x 256 x 3\n",
        "    Scale  (1d array):             3\n",
        "    Result (3d array): 256 x 256 x 3\n",
        "\n",
        "The [numpy documentation](https://docs.scipy.org/doc/numpy-1.13.0/user/basics.broadcasting.html#general-broadcasting-rules) includes several examples of what dimensions can and can not be broadcast together."
      ]
    },
    {
      "cell_type": "markdown",
      "metadata": {
        "id": "vS7pyPN9FV96"
      },
      "source": [
        "## Matmul with broadcasting"
      ]
    },
    {
      "cell_type": "code",
      "execution_count": null,
      "metadata": {
        "id": "6JOLbeGdFV96",
        "outputId": "2a0df36c-fa83-4a16-c545-d86142310e59"
      },
      "outputs": [
        {
          "data": {
            "text/plain": [
              "(torch.Size([784]), torch.Size([784, 10]))"
            ]
          },
          "execution_count": null,
          "metadata": {},
          "output_type": "execute_result"
        }
      ],
      "source": [
        "digit = m1[0]\n",
        "digit.shape,m2.shape"
      ]
    },
    {
      "cell_type": "code",
      "execution_count": null,
      "metadata": {
        "id": "eTNyiYEZFV96",
        "outputId": "dde8f1da-b3e2-4997-abec-7f6c8a8bc1e9"
      },
      "outputs": [
        {
          "data": {
            "text/plain": [
              "torch.Size([784, 1])"
            ]
          },
          "execution_count": null,
          "metadata": {},
          "output_type": "execute_result"
        }
      ],
      "source": [
        "digit[:,None].shape"
      ]
    },
    {
      "cell_type": "code",
      "execution_count": null,
      "metadata": {
        "id": "F3A7z5ktFV96",
        "outputId": "3dafa82a-094c-4fdf-a3c0-327639bdb1c9"
      },
      "outputs": [
        {
          "data": {
            "text/plain": [
              "torch.Size([784, 10])"
            ]
          },
          "execution_count": null,
          "metadata": {},
          "output_type": "execute_result"
        }
      ],
      "source": [
        "digit[:,None].expand_as(m2).shape"
      ]
    },
    {
      "cell_type": "code",
      "execution_count": null,
      "metadata": {
        "id": "3GLXshjXFV99",
        "outputId": "ab7cd562-00ef-403b-aca6-49b950be68c5"
      },
      "outputs": [
        {
          "data": {
            "text/plain": [
              "torch.Size([784, 10])"
            ]
          },
          "execution_count": null,
          "metadata": {},
          "output_type": "execute_result"
        }
      ],
      "source": [
        "(digit[:,None]*m2).shape"
      ]
    },
    {
      "cell_type": "code",
      "execution_count": null,
      "metadata": {
        "id": "s22-2y1zFV99"
      },
      "outputs": [],
      "source": [
        "def matmul(a,b):\n",
        "    (ar,ac),(br,bc) = a.shape,b.shape\n",
        "    c = torch.zeros(ar, bc)\n",
        "    for i in range(ar):\n",
        "#       c[i,j] = (a[i,:] * b[:,j]).sum()      # previous version\n",
        "        c[i]   = (a[i,:,None] * b).sum(dim=0) # broadcast version\n",
        "    return c"
      ]
    },
    {
      "cell_type": "code",
      "execution_count": null,
      "metadata": {
        "id": "dHdmmqgPFV99"
      },
      "outputs": [],
      "source": [
        "test_close(t1,matmul(m1, m2))"
      ]
    },
    {
      "cell_type": "code",
      "execution_count": null,
      "metadata": {
        "id": "calCStfUFV99",
        "outputId": "d51539fa-50ad-46e2-f81b-aad3689aff6f"
      },
      "outputs": [
        {
          "name": "stdout",
          "output_type": "stream",
          "text": [
            "70.1 µs ± 1.97 µs per loop (mean ± std. dev. of 7 runs, 50 loops each)\n"
          ]
        }
      ],
      "source": [
        "%timeit -n 50 _=matmul(m1, m2)"
      ]
    },
    {
      "cell_type": "markdown",
      "metadata": {
        "id": "p46YBpb1FV99"
      },
      "source": [
        "Our time has gone from ~500ms to <0.1ms, an over 5000x improvement! We can run on the whole dataset now."
      ]
    },
    {
      "cell_type": "code",
      "execution_count": null,
      "metadata": {
        "id": "D7UjaThGFV9-",
        "outputId": "96405d6d-11b3-4628-e42c-58a71a3d8097"
      },
      "outputs": [
        {
          "data": {
            "text/plain": [
              "tensor([[  0.96,  -2.96,  -2.11,  ..., -15.09, -17.69,   0.60],\n",
              "        [  6.89,  -0.34,   0.79,  ..., -17.13, -25.36,  16.23],\n",
              "        [-10.18,   7.38,   4.13,  ...,  -6.73,  -6.79,  -1.58],\n",
              "        ...,\n",
              "        [  7.40,   7.64,  -3.50,  ...,  -1.02, -16.22,   2.07],\n",
              "        [  3.25,   9.52,  -9.37,  ...,   2.98, -19.58,  -1.96],\n",
              "        [ 15.70,   4.12,  -5.62,  ...,   8.08, -12.21,   0.42]])"
            ]
          },
          "execution_count": null,
          "metadata": {},
          "output_type": "execute_result"
        }
      ],
      "source": [
        "tr = matmul(x_train, weights)\n",
        "tr"
      ]
    },
    {
      "cell_type": "code",
      "execution_count": null,
      "metadata": {
        "id": "-g2NgTo8FV9-",
        "outputId": "b38cd485-816f-4a24-9a6f-98fec1313532"
      },
      "outputs": [
        {
          "data": {
            "text/plain": [
              "torch.Size([50000, 10])"
            ]
          },
          "execution_count": null,
          "metadata": {},
          "output_type": "execute_result"
        }
      ],
      "source": [
        "tr.shape"
      ]
    },
    {
      "cell_type": "code",
      "execution_count": null,
      "metadata": {
        "id": "vhUmWM_gFV9-",
        "outputId": "37b704fa-d07b-4b14-a052-d2a867d60dc0"
      },
      "outputs": [
        {
          "name": "stdout",
          "output_type": "stream",
          "text": [
            "CPU times: user 6.59 s, sys: 200 ms, total: 6.79 s\n",
            "Wall time: 663 ms\n"
          ]
        }
      ],
      "source": [
        "%time _=matmul(x_train, weights)"
      ]
    },
    {
      "cell_type": "markdown",
      "metadata": {
        "id": "zE-8man9FV9-"
      },
      "source": [
        "## Einstein summation"
      ]
    },
    {
      "cell_type": "markdown",
      "metadata": {
        "id": "rMlw84DIFV9-"
      },
      "source": [
        "[Einstein summation](https://ajcr.net/Basic-guide-to-einsum/) ([`einsum`](https://numpy.org/doc/stable/reference/generated/numpy.einsum.html)) is a compact representation for combining products and sums in a general way. The key rules are:\n",
        "\n",
        "- Repeating letters between input arrays means that values along those axes will be multiplied together.\n",
        "- Omitting a letter from the output means that values along that axis will be summed."
      ]
    },
    {
      "cell_type": "code",
      "execution_count": null,
      "metadata": {
        "id": "EpIKHBg-FV9-",
        "outputId": "228238af-0fc6-4167-f9f6-abe80afc587f"
      },
      "outputs": [
        {
          "data": {
            "text/plain": [
              "(torch.Size([5, 784]), torch.Size([784, 10]))"
            ]
          },
          "execution_count": null,
          "metadata": {},
          "output_type": "execute_result"
        }
      ],
      "source": [
        "m1.shape,m2.shape"
      ]
    },
    {
      "cell_type": "code",
      "execution_count": null,
      "metadata": {
        "id": "Gwx50HQPFV9-",
        "outputId": "edcedae9-78c0-43c9-db1a-99ae5fba9dee"
      },
      "outputs": [
        {
          "data": {
            "text/plain": [
              "torch.Size([5, 784, 10])"
            ]
          },
          "execution_count": null,
          "metadata": {},
          "output_type": "execute_result"
        }
      ],
      "source": [
        "# c[i,j] += a[i,k] * b[k,j]\n",
        "# c[i,j] = (a[i,:] * b[:,j]).sum()\n",
        "mr = torch.einsum('ik,kj->ikj', m1, m2)\n",
        "mr.shape"
      ]
    },
    {
      "cell_type": "code",
      "execution_count": null,
      "metadata": {
        "id": "aqlucvUSFV9-",
        "outputId": "26a282a1-7090-4cfc-a645-79cacda5d7d1"
      },
      "outputs": [
        {
          "data": {
            "text/plain": [
              "tensor([[-10.94,  -0.68,  -7.00,  -4.01,  -2.09,  -3.36,   3.91,  -3.44, -11.47,  -2.12],\n",
              "        [ 14.54,   6.00,   2.89,  -4.08,   6.59, -14.74,  -9.28,   2.16, -15.28,  -2.68],\n",
              "        [  2.22,  -3.22,  -4.80,  -6.05,  14.17,  -8.98,  -4.79,  -5.44, -20.68,  13.57],\n",
              "        [ -6.71,   8.90,  -7.46,  -7.90,   2.70,  -4.73, -11.03, -12.98,  -6.44,   3.64],\n",
              "        [ -2.44,  -6.40,  -2.40,  -9.04,  11.18,  -5.77,  -8.92,  -3.79,  -8.98,   5.28]])"
            ]
          },
          "execution_count": null,
          "metadata": {},
          "output_type": "execute_result"
        }
      ],
      "source": [
        "mr.sum(1)"
      ]
    },
    {
      "cell_type": "code",
      "execution_count": null,
      "metadata": {
        "id": "jqD1J2KoFV9-",
        "outputId": "7d576b26-13b2-4caf-a2cb-188dc383358b"
      },
      "outputs": [
        {
          "data": {
            "text/plain": [
              "tensor([[-10.94,  -0.68,  -7.00,  -4.01,  -2.09,  -3.36,   3.91,  -3.44, -11.47,  -2.12],\n",
              "        [ 14.54,   6.00,   2.89,  -4.08,   6.59, -14.74,  -9.28,   2.16, -15.28,  -2.68],\n",
              "        [  2.22,  -3.22,  -4.80,  -6.05,  14.17,  -8.98,  -4.79,  -5.44, -20.68,  13.57],\n",
              "        [ -6.71,   8.90,  -7.46,  -7.90,   2.70,  -4.73, -11.03, -12.98,  -6.44,   3.64],\n",
              "        [ -2.44,  -6.40,  -2.40,  -9.04,  11.18,  -5.77,  -8.92,  -3.79,  -8.98,   5.28]])"
            ]
          },
          "execution_count": null,
          "metadata": {},
          "output_type": "execute_result"
        }
      ],
      "source": [
        "torch.einsum('ik,kj->ij', m1, m2)"
      ]
    },
    {
      "cell_type": "code",
      "execution_count": null,
      "metadata": {
        "id": "5PQ_diBxFV9-"
      },
      "outputs": [],
      "source": [
        "def matmul(a,b): return torch.einsum('ik,kj->ij', a, b)"
      ]
    },
    {
      "cell_type": "code",
      "execution_count": null,
      "metadata": {
        "id": "AQGP_w3jFV9_"
      },
      "outputs": [],
      "source": [
        "test_close(tr, matmul(x_train, weights), eps=1e-3)"
      ]
    },
    {
      "cell_type": "code",
      "execution_count": null,
      "metadata": {
        "id": "1ptKKjQiFV9_",
        "outputId": "ede6d9b4-88b9-4c84-c67c-d0ea39bd2774"
      },
      "outputs": [
        {
          "name": "stdout",
          "output_type": "stream",
          "text": [
            "15.1 ms ± 176 µs per loop (mean ± std. dev. of 7 runs, 5 loops each)\n"
          ]
        }
      ],
      "source": [
        "%timeit -n 5 _=matmul(x_train, weights)"
      ]
    },
    {
      "cell_type": "markdown",
      "metadata": {
        "id": "pQHxvar8FV9_"
      },
      "source": [
        "## pytorch op"
      ]
    },
    {
      "cell_type": "markdown",
      "metadata": {
        "id": "twOQ3LUVFV9_"
      },
      "source": [
        "We can use pytorch's function or operator directly for matrix multiplication."
      ]
    },
    {
      "cell_type": "code",
      "execution_count": null,
      "metadata": {
        "id": "a3zjcQdeFV9_"
      },
      "outputs": [],
      "source": [
        "test_close(tr, x_train@weights, eps=1e-3)"
      ]
    },
    {
      "cell_type": "code",
      "execution_count": null,
      "metadata": {
        "id": "ptcPvOYRFV9_",
        "outputId": "ba633f63-2513-4b40-a7a3-30d909c97c81"
      },
      "outputs": [
        {
          "name": "stdout",
          "output_type": "stream",
          "text": [
            "15.2 ms ± 96.2 µs per loop (mean ± std. dev. of 7 runs, 5 loops each)\n"
          ]
        }
      ],
      "source": [
        "%timeit -n 5 _=torch.matmul(x_train, weights)"
      ]
    },
    {
      "cell_type": "markdown",
      "metadata": {
        "id": "dq-gyMlIFV9_"
      },
      "source": [
        "## CUDA"
      ]
    },
    {
      "cell_type": "code",
      "execution_count": null,
      "metadata": {
        "id": "AV__WpgNFV9_"
      },
      "outputs": [],
      "source": [
        "def matmul(grid, a,b,c):\n",
        "    i,j = grid\n",
        "    if i < c.shape[0] and j < c.shape[1]:\n",
        "        tmp = 0.\n",
        "        for k in range(a.shape[1]): tmp += a[i, k] * b[k, j]\n",
        "        c[i,j] = tmp"
      ]
    },
    {
      "cell_type": "code",
      "execution_count": null,
      "metadata": {
        "id": "JYnH6XskFV9_",
        "outputId": "cfd21ad5-30b6-4ffc-fd58-a55b259155fc"
      },
      "outputs": [
        {
          "data": {
            "text/plain": [
              "tensor([[-10.94,   0.00,   0.00,   0.00,   0.00,   0.00,   0.00,   0.00,   0.00,   0.00],\n",
              "        [  0.00,   0.00,   0.00,   0.00,   0.00,   0.00,   0.00,   0.00,   0.00,   0.00],\n",
              "        [  0.00,   0.00,   0.00,   0.00,   0.00,   0.00,   0.00,   0.00,   0.00,   0.00],\n",
              "        [  0.00,   0.00,   0.00,   0.00,   0.00,   0.00,   0.00,   0.00,   0.00,   0.00],\n",
              "        [  0.00,   0.00,   0.00,   0.00,   0.00,   0.00,   0.00,   0.00,   0.00,   0.00]])"
            ]
          },
          "execution_count": null,
          "metadata": {},
          "output_type": "execute_result"
        }
      ],
      "source": [
        "res = torch.zeros(ar, bc)\n",
        "matmul((0,0), m1, m2, res)\n",
        "res"
      ]
    },
    {
      "cell_type": "code",
      "execution_count": null,
      "metadata": {
        "id": "Swy9d2bqFV9_"
      },
      "outputs": [],
      "source": [
        "def launch_kernel(kernel, grid_x, grid_y, *args, **kwargs):\n",
        "    for i in range(grid_x):\n",
        "        for j in range(grid_y): kernel((i,j), *args, **kwargs)"
      ]
    },
    {
      "cell_type": "code",
      "execution_count": null,
      "metadata": {
        "id": "OJpndVLRFV9_",
        "outputId": "a6aad3a6-580d-4493-9e25-aed54f8bc04a"
      },
      "outputs": [
        {
          "data": {
            "text/plain": [
              "tensor([[-10.94,  -0.68,  -7.00,  -4.01,  -2.09,  -3.36,   3.91,  -3.44, -11.47,  -2.12],\n",
              "        [ 14.54,   6.00,   2.89,  -4.08,   6.59, -14.74,  -9.28,   2.16, -15.28,  -2.68],\n",
              "        [  2.22,  -3.22,  -4.80,  -6.05,  14.17,  -8.98,  -4.79,  -5.44, -20.68,  13.57],\n",
              "        [ -6.71,   8.90,  -7.46,  -7.90,   2.70,  -4.73, -11.03, -12.98,  -6.44,   3.64],\n",
              "        [ -2.44,  -6.40,  -2.40,  -9.04,  11.18,  -5.77,  -8.92,  -3.79,  -8.98,   5.28]])"
            ]
          },
          "execution_count": null,
          "metadata": {},
          "output_type": "execute_result"
        }
      ],
      "source": [
        "res = torch.zeros(ar, bc)\n",
        "launch_kernel(matmul, ar, bc, m1, m2, res)\n",
        "res"
      ]
    },
    {
      "cell_type": "code",
      "execution_count": null,
      "metadata": {
        "id": "WAiSTUtyFV-A"
      },
      "outputs": [],
      "source": [
        "from numba import cuda"
      ]
    },
    {
      "cell_type": "code",
      "execution_count": null,
      "metadata": {
        "id": "wtzq5FfSFV-A"
      },
      "outputs": [],
      "source": [
        "def matmul(grid, a,b,c):\n",
        "    i,j = grid\n",
        "    if i < c.shape[0] and j < c.shape[1]:\n",
        "        tmp = 0.\n",
        "        for k in range(a.shape[1]): tmp += a[i, k] * b[k, j]\n",
        "        c[i,j] = tmp"
      ]
    },
    {
      "cell_type": "code",
      "execution_count": null,
      "metadata": {
        "id": "o-Rg01xfFV-A"
      },
      "outputs": [],
      "source": [
        "@cuda.jit\n",
        "def matmul(a,b,c):\n",
        "    i, j = cuda.grid(2)\n",
        "    if i < c.shape[0] and j < c.shape[1]:\n",
        "        tmp = 0.\n",
        "        for k in range(a.shape[1]): tmp += a[i, k] * b[k, j]\n",
        "        c[i,j] = tmp"
      ]
    },
    {
      "cell_type": "code",
      "execution_count": null,
      "metadata": {
        "id": "wxaMGdloFV-A"
      },
      "outputs": [],
      "source": [
        "r = np.zeros(tr.shape)\n",
        "m1g,m2g,rg = map(cuda.to_device, (x_train,weights,r))"
      ]
    },
    {
      "cell_type": "code",
      "execution_count": null,
      "metadata": {
        "id": "uacx0oZBFV-A",
        "outputId": "a94f390c-0ab2-4cec-83a8-caf32b3f1021"
      },
      "outputs": [
        {
          "data": {
            "text/plain": [
              "(50000, 10)"
            ]
          },
          "execution_count": null,
          "metadata": {},
          "output_type": "execute_result"
        }
      ],
      "source": [
        "r.shape"
      ]
    },
    {
      "cell_type": "code",
      "execution_count": null,
      "metadata": {
        "id": "ZUJIJ__1FV-A",
        "outputId": "0120d9ff-0d78-4e61-dde2-1bb2e3d9db2c"
      },
      "outputs": [
        {
          "data": {
            "text/plain": [
              "(3125, 1)"
            ]
          },
          "execution_count": null,
          "metadata": {},
          "output_type": "execute_result"
        }
      ],
      "source": [
        "TPB = 16\n",
        "rr,rc = r.shape\n",
        "blockspergrid = (math.ceil(rr / TPB), math.ceil(rc / TPB))\n",
        "blockspergrid"
      ]
    },
    {
      "cell_type": "code",
      "execution_count": null,
      "metadata": {
        "id": "BzGieg6ZFV-A"
      },
      "outputs": [],
      "source": [
        "matmul[blockspergrid, (TPB,TPB)](m1g,m2g,rg)\n",
        "r = rg.copy_to_host()\n",
        "test_close(tr, r, eps=1e-3)"
      ]
    },
    {
      "cell_type": "code",
      "execution_count": null,
      "metadata": {
        "id": "2QMATFWPFV-B",
        "outputId": "080e6f8f-4df9-4133-89ff-66954c2f9fa2"
      },
      "outputs": [
        {
          "name": "stdout",
          "output_type": "stream",
          "text": [
            "3.61 ms ± 708 µs per loop (mean ± std. dev. of 7 runs, 10 loops each)\n"
          ]
        }
      ],
      "source": [
        "%%timeit -n 10\n",
        "matmul[blockspergrid, (TPB,TPB)](m1g,m2g,rg)\n",
        "r = rg.copy_to_host()"
      ]
    },
    {
      "cell_type": "code",
      "execution_count": null,
      "metadata": {
        "id": "5rHGY6KCFV-C"
      },
      "outputs": [],
      "source": [
        "m1c,m2c = x_train.cuda(),weights.cuda()"
      ]
    },
    {
      "cell_type": "code",
      "execution_count": null,
      "metadata": {
        "id": "j0PZemO3FV-C"
      },
      "outputs": [],
      "source": [
        "r=(m1c@m2c).cpu()"
      ]
    },
    {
      "cell_type": "code",
      "execution_count": null,
      "metadata": {
        "id": "lhT312MrFV-C",
        "outputId": "c1d301d4-8dd6-4df4-d587-1dd523a3b33f"
      },
      "outputs": [
        {
          "name": "stdout",
          "output_type": "stream",
          "text": [
            "458 µs ± 93.1 µs per loop (mean ± std. dev. of 7 runs, 10 loops each)\n"
          ]
        }
      ],
      "source": [
        "%timeit -n 10 r=(m1c@m2c).cpu()"
      ]
    },
    {
      "cell_type": "markdown",
      "metadata": {
        "id": "4OrnVuR0FV-C"
      },
      "source": [
        "Our broadcasting version was >500ms, and our CUDA version is around 0.5ms, which is another 1000x improvement compared to broadcasting. So our total speedup is around 5 million times!"
      ]
    },
    {
      "cell_type": "code",
      "execution_count": null,
      "metadata": {
        "id": "Yc5JrB9PFV-C"
      },
      "outputs": [],
      "source": []
    }
  ],
  "metadata": {
    "kernelspec": {
      "display_name": "Python 3",
      "name": "python3"
    },
    "colab": {
      "provenance": []
    }
  },
  "nbformat": 4,
  "nbformat_minor": 0
}